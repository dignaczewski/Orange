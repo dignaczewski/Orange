{
 "cells": [
  {
   "cell_type": "markdown",
   "metadata": {},
   "source": [
    " # INTRO\n",
    "\n",
    "Na potrzeby tego projektu zostanie utworzona nowa baza danych w oparciu o PostgreSQL. Baza ta posłuży jako fundament do dalszych operacji zgodnych z zadanymi wymaganiami.\n",
    "\n",
    "W poniższym notatniku przeanalizujemy surowe dane, a następnie dokonamy niezbędnych modyfikacji, aby były one gotowe do załadowania do bazy danych. Wykonamy odpowiednie przekształcenia, aby dane były poprawnie przygotowane pod kątem struktury, typów oraz integralności, co umożliwi ich sprawną integrację i przetwarzanie w systemie."
   ]
  },
  {
   "cell_type": "markdown",
   "metadata": {},
   "source": [
    " # Konfiguracja notatnika"
   ]
  },
  {
   "cell_type": "markdown",
   "metadata": {},
   "source": [
    "##### Importujemy wymagane biblioteki"
   ]
  },
  {
   "cell_type": "code",
   "execution_count": 4,
   "metadata": {},
   "outputs": [],
   "source": [
    "import pandas as pd"
   ]
  },
  {
   "cell_type": "markdown",
   "metadata": {},
   "source": [
    "### PLIK TEST_BAZA2.csv"
   ]
  },
  {
   "cell_type": "markdown",
   "metadata": {},
   "source": [
    "##### Wczytujemy plik `TEST_BAZA2.csv`."
   ]
  },
  {
   "cell_type": "code",
   "execution_count": 7,
   "metadata": {
    "scrolled": true
   },
   "outputs": [
    {
     "data": {
      "text/html": [
       "<div>\n",
       "<style scoped>\n",
       "    .dataframe tbody tr th:only-of-type {\n",
       "        vertical-align: middle;\n",
       "    }\n",
       "\n",
       "    .dataframe tbody tr th {\n",
       "        vertical-align: top;\n",
       "    }\n",
       "\n",
       "    .dataframe thead th {\n",
       "        text-align: right;\n",
       "    }\n",
       "</style>\n",
       "<table border=\"1\" class=\"dataframe\">\n",
       "  <thead>\n",
       "    <tr style=\"text-align: right;\">\n",
       "      <th></th>\n",
       "      <th>ID</th>\n",
       "      <th>NUMBER</th>\n",
       "      <th>PLAN</th>\n",
       "    </tr>\n",
       "  </thead>\n",
       "  <tbody>\n",
       "    <tr>\n",
       "      <th>0</th>\n",
       "      <td>10886857</td>\n",
       "      <td>531778955</td>\n",
       "      <td>S</td>\n",
       "    </tr>\n",
       "    <tr>\n",
       "      <th>1</th>\n",
       "      <td>10886857</td>\n",
       "      <td>500830441</td>\n",
       "      <td>S</td>\n",
       "    </tr>\n",
       "    <tr>\n",
       "      <th>2</th>\n",
       "      <td>10886857</td>\n",
       "      <td>599709277</td>\n",
       "      <td>S</td>\n",
       "    </tr>\n",
       "    <tr>\n",
       "      <th>3</th>\n",
       "      <td>10886857</td>\n",
       "      <td>580058812</td>\n",
       "      <td>S</td>\n",
       "    </tr>\n",
       "    <tr>\n",
       "      <th>4</th>\n",
       "      <td>10886857</td>\n",
       "      <td>542422081</td>\n",
       "      <td>S</td>\n",
       "    </tr>\n",
       "  </tbody>\n",
       "</table>\n",
       "</div>"
      ],
      "text/plain": [
       "         ID     NUMBER PLAN\n",
       "0  10886857  531778955    S\n",
       "1  10886857  500830441    S\n",
       "2  10886857  599709277    S\n",
       "3  10886857  580058812    S\n",
       "4  10886857  542422081    S"
      ]
     },
     "execution_count": 7,
     "metadata": {},
     "output_type": "execute_result"
    }
   ],
   "source": [
    "# Wczytujemy plik CSV do DataFrame o nazwie 'TEST_BAZA2'\n",
    "file_path = '../data/raw/TEST_BAZA2.csv'\n",
    "baza2 = pd.read_csv(file_path, delimiter=';')\n",
    "baza2.head()"
   ]
  },
  {
   "cell_type": "code",
   "execution_count": 8,
   "metadata": {},
   "outputs": [
    {
     "data": {
      "text/plain": [
       "(9968, 3)"
      ]
     },
     "execution_count": 8,
     "metadata": {},
     "output_type": "execute_result"
    }
   ],
   "source": [
    "# Sprawdzenie rozmiarów df-a\n",
    "baza2.shape"
   ]
  },
  {
   "cell_type": "code",
   "execution_count": 9,
   "metadata": {},
   "outputs": [
    {
     "name": "stdout",
     "output_type": "stream",
     "text": [
      "Liczba wartości NULL (NaN) w kolumnie 'ID': 0\n",
      "Liczba wartości NULL (NaN) w kolumnie 'NUMBER': 0\n",
      "Liczba wartości NULL (NaN) w kolumnie 'PLAN': 98\n"
     ]
    }
   ],
   "source": [
    "# Sprawdzenie ilości wartości NULL (NaN) w kolumnie ID\n",
    "null_count = baza2['ID'].isna().sum()\n",
    "print(f\"Liczba wartości NULL (NaN) w kolumnie 'ID': {null_count}\")\n",
    "\n",
    "# Sprawdzenie ilości wartości NULL (NaN) w kolumnie NUMBER\n",
    "null_count = baza2['NUMBER'].isna().sum()\n",
    "print(f\"Liczba wartości NULL (NaN) w kolumnie 'NUMBER': {null_count}\")\n",
    "\n",
    "# Sprawdzenie ilości wartości NULL (NaN) w kolumnie PLAN\n",
    "null_count = baza2['PLAN'].isna().sum()\n",
    "print(f\"Liczba wartości NULL (NaN) w kolumnie 'PLAN': {null_count}\")"
   ]
  },
  {
   "cell_type": "code",
   "execution_count": 10,
   "metadata": {},
   "outputs": [
    {
     "data": {
      "text/html": [
       "<div>\n",
       "<style scoped>\n",
       "    .dataframe tbody tr th:only-of-type {\n",
       "        vertical-align: middle;\n",
       "    }\n",
       "\n",
       "    .dataframe tbody tr th {\n",
       "        vertical-align: top;\n",
       "    }\n",
       "\n",
       "    .dataframe thead th {\n",
       "        text-align: right;\n",
       "    }\n",
       "</style>\n",
       "<table border=\"1\" class=\"dataframe\">\n",
       "  <thead>\n",
       "    <tr style=\"text-align: right;\">\n",
       "      <th></th>\n",
       "      <th>ID</th>\n",
       "      <th>NUMBER</th>\n",
       "      <th>PLAN</th>\n",
       "    </tr>\n",
       "  </thead>\n",
       "  <tbody>\n",
       "  </tbody>\n",
       "</table>\n",
       "</div>"
      ],
      "text/plain": [
       "Empty DataFrame\n",
       "Columns: [ID, NUMBER, PLAN]\n",
       "Index: []"
      ]
     },
     "execution_count": 10,
     "metadata": {},
     "output_type": "execute_result"
    }
   ],
   "source": [
    "# Sprawdzenie duplikatów na podstawie kolumn 'ID' i 'NUMBER' w celu wykrycia, czy nie generują one wierszy z brakującymi danymi w kolumnie 'PLAN'\n",
    "duplicated2 = baza2[baza2.duplicated(subset=['ID', 'NUMBER'], keep=False)]\n",
    "\n",
    "# Wyświetlenie duplikatów\n",
    "duplicated2"
   ]
  },
  {
   "cell_type": "code",
   "execution_count": 11,
   "metadata": {
    "scrolled": true
   },
   "outputs": [
    {
     "data": {
      "text/html": [
       "<div>\n",
       "<style scoped>\n",
       "    .dataframe tbody tr th:only-of-type {\n",
       "        vertical-align: middle;\n",
       "    }\n",
       "\n",
       "    .dataframe tbody tr th {\n",
       "        vertical-align: top;\n",
       "    }\n",
       "\n",
       "    .dataframe thead th {\n",
       "        text-align: right;\n",
       "    }\n",
       "</style>\n",
       "<table border=\"1\" class=\"dataframe\">\n",
       "  <thead>\n",
       "    <tr style=\"text-align: right;\">\n",
       "      <th></th>\n",
       "      <th>ID</th>\n",
       "      <th>NUMBER</th>\n",
       "      <th>PLAN</th>\n",
       "    </tr>\n",
       "  </thead>\n",
       "  <tbody>\n",
       "  </tbody>\n",
       "</table>\n",
       "</div>"
      ],
      "text/plain": [
       "Empty DataFrame\n",
       "Columns: [ID, NUMBER, PLAN]\n",
       "Index: []"
      ]
     },
     "execution_count": 11,
     "metadata": {},
     "output_type": "execute_result"
    }
   ],
   "source": [
    "# Sprawdzenie duplikatów na podstawie wszystkich kolumn\n",
    "duplicated2_all = baza2[baza2.duplicated(keep=False)]\n",
    "\n",
    "# Wyświetlenie duplikatów\n",
    "duplicated2_all"
   ]
  },
  {
   "cell_type": "code",
   "execution_count": 12,
   "metadata": {},
   "outputs": [
    {
     "name": "stdout",
     "output_type": "stream",
     "text": [
      "ID         int64\n",
      "NUMBER     int64\n",
      "PLAN      object\n",
      "dtype: object\n"
     ]
    }
   ],
   "source": [
    "# Sprawdzenie typów danych we wszystkich kolumnach DataFrame\n",
    "print(baza2.dtypes)"
   ]
  },
  {
   "cell_type": "code",
   "execution_count": 13,
   "metadata": {
    "scrolled": true
   },
   "outputs": [
    {
     "data": {
      "text/html": [
       "<div>\n",
       "<style scoped>\n",
       "    .dataframe tbody tr th:only-of-type {\n",
       "        vertical-align: middle;\n",
       "    }\n",
       "\n",
       "    .dataframe tbody tr th {\n",
       "        vertical-align: top;\n",
       "    }\n",
       "\n",
       "    .dataframe thead th {\n",
       "        text-align: right;\n",
       "    }\n",
       "</style>\n",
       "<table border=\"1\" class=\"dataframe\">\n",
       "  <thead>\n",
       "    <tr style=\"text-align: right;\">\n",
       "      <th></th>\n",
       "      <th>ID</th>\n",
       "      <th>NUMBER</th>\n",
       "      <th>PLAN</th>\n",
       "    </tr>\n",
       "  </thead>\n",
       "  <tbody>\n",
       "  </tbody>\n",
       "</table>\n",
       "</div>"
      ],
      "text/plain": [
       "Empty DataFrame\n",
       "Columns: [ID, NUMBER, PLAN]\n",
       "Index: []"
      ]
     },
     "execution_count": 13,
     "metadata": {},
     "output_type": "execute_result"
    }
   ],
   "source": [
    "# Sprawdzenie, czy wszystkie numery w kolumnie NUMBER mają 9 cyfr\n",
    "test_9_digits = baza2['NUMBER'].astype(str).str.len() == 9\n",
    "\n",
    "# Wyświetlenie wierszy, które nie mają 9 cyfr\n",
    "baza2[~test_9_digits]"
   ]
  },
  {
   "cell_type": "markdown",
   "metadata": {},
   "source": [
    "### UWAGA !\n",
    "\n",
    "Po zapoznaniu się z otrzymanymi danymi widzę, że w pliku BAZA2 nie występują duplikaty. W tej sytuacji należy wyjaśnić, skąd wynikają braki w kolumnie PLAN, i zdecydować, czy wprowadzić do bazy danych wartości NaN, czy uzupełnić je wartością BP (brak planu). Pozostawienie NaN pozwala monitorować brakujące dane, natomiast wartość BP może być użyteczna, jeśli brak planu to rzeczywista informacja, a nie brak danych.\n",
    "\n",
    "Na potrzeby tego zadania zdecydowałem, że brakujące plany pozostaną pustą wartością."
   ]
  },
  {
   "cell_type": "markdown",
   "metadata": {},
   "source": [
    "##### Zapisujemy ramkę `baza2` do pliku `TEST_BAZA2_CLEANED.csv` w katalogu `data/processed`."
   ]
  },
  {
   "cell_type": "code",
   "execution_count": 16,
   "metadata": {},
   "outputs": [],
   "source": [
    "# Ścieżka do zapisu pliku CSV\n",
    "file_path = '../data/processed/TEST_BAZA2_CLEANED.csv'\n",
    "\n",
    "# Zapisujemy ramkę danych do pliku CSV\n",
    "baza2.to_csv(file_path, index=False)"
   ]
  },
  {
   "cell_type": "markdown",
   "metadata": {},
   "source": [
    "### PLIK TEST_BAZA1.csv"
   ]
  },
  {
   "cell_type": "markdown",
   "metadata": {},
   "source": [
    "##### Wczytujemy plik `TEST_BAZA1.csv`."
   ]
  },
  {
   "cell_type": "code",
   "execution_count": 19,
   "metadata": {},
   "outputs": [
    {
     "data": {
      "text/html": [
       "<div>\n",
       "<style scoped>\n",
       "    .dataframe tbody tr th:only-of-type {\n",
       "        vertical-align: middle;\n",
       "    }\n",
       "\n",
       "    .dataframe tbody tr th {\n",
       "        vertical-align: top;\n",
       "    }\n",
       "\n",
       "    .dataframe thead th {\n",
       "        text-align: right;\n",
       "    }\n",
       "</style>\n",
       "<table border=\"1\" class=\"dataframe\">\n",
       "  <thead>\n",
       "    <tr style=\"text-align: right;\">\n",
       "      <th></th>\n",
       "      <th>ID</th>\n",
       "      <th>NUMBER</th>\n",
       "      <th>END_DT</th>\n",
       "      <th>SEGMENT</th>\n",
       "    </tr>\n",
       "  </thead>\n",
       "  <tbody>\n",
       "    <tr>\n",
       "      <th>0</th>\n",
       "      <td>12373110</td>\n",
       "      <td>NaN</td>\n",
       "      <td>14.03.2024 10:46:02</td>\n",
       "      <td>Soho</td>\n",
       "    </tr>\n",
       "    <tr>\n",
       "      <th>1</th>\n",
       "      <td>12373110</td>\n",
       "      <td>NaN</td>\n",
       "      <td>13.03.2024 19:48:21</td>\n",
       "      <td>Soho</td>\n",
       "    </tr>\n",
       "    <tr>\n",
       "      <th>2</th>\n",
       "      <td>12370190</td>\n",
       "      <td>NaN</td>\n",
       "      <td>25.06.2017 11:58:41</td>\n",
       "      <td>Soho</td>\n",
       "    </tr>\n",
       "    <tr>\n",
       "      <th>3</th>\n",
       "      <td>12370190</td>\n",
       "      <td>NaN</td>\n",
       "      <td>29.10.2022 01:20:34</td>\n",
       "      <td>Soho</td>\n",
       "    </tr>\n",
       "    <tr>\n",
       "      <th>4</th>\n",
       "      <td>12370190</td>\n",
       "      <td>NaN</td>\n",
       "      <td>29.10.2022 02:20:33</td>\n",
       "      <td>Soho</td>\n",
       "    </tr>\n",
       "  </tbody>\n",
       "</table>\n",
       "</div>"
      ],
      "text/plain": [
       "         ID NUMBER               END_DT SEGMENT\n",
       "0  12373110    NaN  14.03.2024 10:46:02    Soho\n",
       "1  12373110    NaN  13.03.2024 19:48:21    Soho\n",
       "2  12370190    NaN  25.06.2017 11:58:41    Soho\n",
       "3  12370190    NaN  29.10.2022 01:20:34    Soho\n",
       "4  12370190    NaN  29.10.2022 02:20:33    Soho"
      ]
     },
     "execution_count": 19,
     "metadata": {},
     "output_type": "execute_result"
    }
   ],
   "source": [
    "# Wczytujemy plik CSV do DataFrame o nazwie 'TEST_BAZA1'\n",
    "file_path = '../data/raw/TEST_BAZA1.csv'\n",
    "baza1 = pd.read_csv(file_path, delimiter=';')\n",
    "baza1.head()"
   ]
  },
  {
   "cell_type": "code",
   "execution_count": 20,
   "metadata": {},
   "outputs": [
    {
     "data": {
      "text/plain": [
       "(10000, 4)"
      ]
     },
     "execution_count": 20,
     "metadata": {},
     "output_type": "execute_result"
    }
   ],
   "source": [
    "# Sprawdzenie rozmiarów df-a\n",
    "baza1.shape"
   ]
  },
  {
   "cell_type": "code",
   "execution_count": 21,
   "metadata": {},
   "outputs": [
    {
     "name": "stdout",
     "output_type": "stream",
     "text": [
      "Liczba wartości NULL (NaN) w kolumnie 'ID': 0\n",
      "Liczba wartości NULL (NaN) w kolumnie 'NUMBER': 32\n",
      "Liczba wartości NULL (NaN) w kolumnie 'END_DT': 0\n",
      "Liczba wartości NULL (NaN) w kolumnie 'SEGMENT': 0\n"
     ]
    }
   ],
   "source": [
    "# Sprawdzenie ilości wartości NULL (NaN) w kolumnie ID\n",
    "null_count = baza1['ID'].isna().sum()\n",
    "print(f\"Liczba wartości NULL (NaN) w kolumnie 'ID': {null_count}\")\n",
    "\n",
    "# Sprawdzenie ilości wartości NULL (NaN) w kolumnie NUMBER\n",
    "null_count = baza1['NUMBER'].isna().sum()\n",
    "print(f\"Liczba wartości NULL (NaN) w kolumnie 'NUMBER': {null_count}\")\n",
    "\n",
    "# Sprawdzenie ilości wartości NULL (NaN) w kolumnie END_DT\n",
    "null_count = baza1['END_DT'].isna().sum()\n",
    "print(f\"Liczba wartości NULL (NaN) w kolumnie 'END_DT': {null_count}\")\n",
    "\n",
    "# Sprawdzenie ilości wartości NULL (NaN) w kolumnie SEGMENT\n",
    "null_count = baza1['SEGMENT'].isna().sum()\n",
    "print(f\"Liczba wartości NULL (NaN) w kolumnie 'SEGMENT': {null_count}\")"
   ]
  },
  {
   "cell_type": "code",
   "execution_count": 22,
   "metadata": {},
   "outputs": [
    {
     "data": {
      "text/html": [
       "<div>\n",
       "<style scoped>\n",
       "    .dataframe tbody tr th:only-of-type {\n",
       "        vertical-align: middle;\n",
       "    }\n",
       "\n",
       "    .dataframe tbody tr th {\n",
       "        vertical-align: top;\n",
       "    }\n",
       "\n",
       "    .dataframe thead th {\n",
       "        text-align: right;\n",
       "    }\n",
       "</style>\n",
       "<table border=\"1\" class=\"dataframe\">\n",
       "  <thead>\n",
       "    <tr style=\"text-align: right;\">\n",
       "      <th></th>\n",
       "      <th>ID</th>\n",
       "      <th>NUMBER</th>\n",
       "      <th>END_DT</th>\n",
       "      <th>SEGMENT</th>\n",
       "    </tr>\n",
       "  </thead>\n",
       "  <tbody>\n",
       "    <tr>\n",
       "      <th>846</th>\n",
       "      <td>12371844</td>\n",
       "      <td>574 279 954</td>\n",
       "      <td>22.11.2024 02:28:56</td>\n",
       "      <td>Medium</td>\n",
       "    </tr>\n",
       "    <tr>\n",
       "      <th>908</th>\n",
       "      <td>12371844</td>\n",
       "      <td>534 307 493</td>\n",
       "      <td>22.11.2024 02:28:56</td>\n",
       "      <td>Medium</td>\n",
       "    </tr>\n",
       "  </tbody>\n",
       "</table>\n",
       "</div>"
      ],
      "text/plain": [
       "           ID       NUMBER               END_DT SEGMENT\n",
       "846  12371844  574 279 954  22.11.2024 02:28:56  Medium\n",
       "908  12371844  534 307 493  22.11.2024 02:28:56  Medium"
      ]
     },
     "execution_count": 22,
     "metadata": {},
     "output_type": "execute_result"
    }
   ],
   "source": [
    "# Sprawdzenie duplikatów na podstawie kolumn 'ID', 'END_DT' i 'SEGMENT' w celu wykrycia, czy nie generują one wierszy z brakującymi danymi w kolumnie 'NUMBER'\n",
    "duplicated1 = baza1[baza1.duplicated(subset=['ID', 'END_DT', 'SEGMENT'], keep=False)]\n",
    "\n",
    "# Wyświetlenie duplikatów\n",
    "duplicated1"
   ]
  },
  {
   "cell_type": "code",
   "execution_count": 23,
   "metadata": {},
   "outputs": [
    {
     "data": {
      "text/html": [
       "<div>\n",
       "<style scoped>\n",
       "    .dataframe tbody tr th:only-of-type {\n",
       "        vertical-align: middle;\n",
       "    }\n",
       "\n",
       "    .dataframe tbody tr th {\n",
       "        vertical-align: top;\n",
       "    }\n",
       "\n",
       "    .dataframe thead th {\n",
       "        text-align: right;\n",
       "    }\n",
       "</style>\n",
       "<table border=\"1\" class=\"dataframe\">\n",
       "  <thead>\n",
       "    <tr style=\"text-align: right;\">\n",
       "      <th></th>\n",
       "      <th>ID</th>\n",
       "      <th>NUMBER</th>\n",
       "      <th>END_DT</th>\n",
       "      <th>SEGMENT</th>\n",
       "    </tr>\n",
       "  </thead>\n",
       "  <tbody>\n",
       "  </tbody>\n",
       "</table>\n",
       "</div>"
      ],
      "text/plain": [
       "Empty DataFrame\n",
       "Columns: [ID, NUMBER, END_DT, SEGMENT]\n",
       "Index: []"
      ]
     },
     "execution_count": 23,
     "metadata": {},
     "output_type": "execute_result"
    }
   ],
   "source": [
    "# Sprawdzenie duplikatów na podstawie wszystkich kolumn\n",
    "duplicated1_all = baza1[baza1.duplicated(keep=False)]\n",
    "\n",
    "# Wyświetlenie duplikatów\n",
    "duplicated1_all"
   ]
  },
  {
   "cell_type": "code",
   "execution_count": 24,
   "metadata": {},
   "outputs": [
    {
     "name": "stdout",
     "output_type": "stream",
     "text": [
      "ID          int64\n",
      "NUMBER     object\n",
      "END_DT     object\n",
      "SEGMENT    object\n",
      "dtype: object\n"
     ]
    }
   ],
   "source": [
    "# Sprawdzenie typów danych we wszystkich kolumnach DataFrame\n",
    "print(baza1.dtypes)"
   ]
  },
  {
   "cell_type": "code",
   "execution_count": 25,
   "metadata": {},
   "outputs": [
    {
     "name": "stdout",
     "output_type": "stream",
     "text": [
      "[nan '531 778 955' '500 830 441' '599 709 277' '580 058 812' '542 422 081'\n",
      " '504 667 542' '570 338 661' '542 560 650' '562 345 617']\n"
     ]
    }
   ],
   "source": [
    "# Sprawdzenie 10 pierwszych unikalnych wartości w kolumnie 'NUMBER'\n",
    "unique_numbers_limit_10 = baza1['NUMBER'].unique()[:10]\n",
    "\n",
    "# Wyświetlenie wyników\n",
    "print(unique_numbers_limit_10)"
   ]
  },
  {
   "cell_type": "code",
   "execution_count": 26,
   "metadata": {},
   "outputs": [
    {
     "name": "stdout",
     "output_type": "stream",
     "text": [
      "[nan '531778955' '500830441' '599709277' '580058812' '542422081'\n",
      " '504667542' '570338661' '542560650' '562345617']\n"
     ]
    }
   ],
   "source": [
    "# Usunięcie wszystkich spacji z kolumny 'NUMBER'\n",
    "baza1['NUMBER'] = baza1['NUMBER'].str.replace(' ', '', regex=False)\n",
    "\n",
    "unique_numbers_limit_10 = baza1['NUMBER'].unique()[:10]\n",
    "\n",
    "# Sprawdzenie wyników\n",
    "print(unique_numbers_limit_10)"
   ]
  },
  {
   "cell_type": "code",
   "execution_count": 27,
   "metadata": {},
   "outputs": [
    {
     "name": "stdout",
     "output_type": "stream",
     "text": [
      "ID          int64\n",
      "NUMBER     object\n",
      "END_DT     object\n",
      "SEGMENT    object\n",
      "dtype: object\n"
     ]
    }
   ],
   "source": [
    "# Sprawdzenie typów danych we wszystkich kolumnach DataFrame\n",
    "print(baza1.dtypes)"
   ]
  },
  {
   "cell_type": "code",
   "execution_count": 28,
   "metadata": {},
   "outputs": [
    {
     "data": {
      "text/html": [
       "<div>\n",
       "<style scoped>\n",
       "    .dataframe tbody tr th:only-of-type {\n",
       "        vertical-align: middle;\n",
       "    }\n",
       "\n",
       "    .dataframe tbody tr th {\n",
       "        vertical-align: top;\n",
       "    }\n",
       "\n",
       "    .dataframe thead th {\n",
       "        text-align: right;\n",
       "    }\n",
       "</style>\n",
       "<table border=\"1\" class=\"dataframe\">\n",
       "  <thead>\n",
       "    <tr style=\"text-align: right;\">\n",
       "      <th></th>\n",
       "      <th>ID</th>\n",
       "      <th>NUMBER</th>\n",
       "      <th>END_DT</th>\n",
       "      <th>SEGMENT</th>\n",
       "    </tr>\n",
       "  </thead>\n",
       "  <tbody>\n",
       "    <tr>\n",
       "      <th>0</th>\n",
       "      <td>12373110</td>\n",
       "      <td>NaN</td>\n",
       "      <td>14.03.2024 10:46:02</td>\n",
       "      <td>Soho</td>\n",
       "    </tr>\n",
       "    <tr>\n",
       "      <th>1</th>\n",
       "      <td>12373110</td>\n",
       "      <td>NaN</td>\n",
       "      <td>13.03.2024 19:48:21</td>\n",
       "      <td>Soho</td>\n",
       "    </tr>\n",
       "    <tr>\n",
       "      <th>2</th>\n",
       "      <td>12370190</td>\n",
       "      <td>NaN</td>\n",
       "      <td>25.06.2017 11:58:41</td>\n",
       "      <td>Soho</td>\n",
       "    </tr>\n",
       "    <tr>\n",
       "      <th>3</th>\n",
       "      <td>12370190</td>\n",
       "      <td>NaN</td>\n",
       "      <td>29.10.2022 01:20:34</td>\n",
       "      <td>Soho</td>\n",
       "    </tr>\n",
       "    <tr>\n",
       "      <th>4</th>\n",
       "      <td>12370190</td>\n",
       "      <td>NaN</td>\n",
       "      <td>29.10.2022 02:20:33</td>\n",
       "      <td>Soho</td>\n",
       "    </tr>\n",
       "    <tr>\n",
       "      <th>5</th>\n",
       "      <td>12370190</td>\n",
       "      <td>NaN</td>\n",
       "      <td>29.10.2022 05:50:57</td>\n",
       "      <td>Soho</td>\n",
       "    </tr>\n",
       "    <tr>\n",
       "      <th>6</th>\n",
       "      <td>12370190</td>\n",
       "      <td>NaN</td>\n",
       "      <td>29.10.2022 16:15:39</td>\n",
       "      <td>Soho</td>\n",
       "    </tr>\n",
       "    <tr>\n",
       "      <th>7</th>\n",
       "      <td>12370190</td>\n",
       "      <td>NaN</td>\n",
       "      <td>29.10.2022 04:00:13</td>\n",
       "      <td>Soho</td>\n",
       "    </tr>\n",
       "    <tr>\n",
       "      <th>8</th>\n",
       "      <td>12370190</td>\n",
       "      <td>NaN</td>\n",
       "      <td>29.10.2022 01:06:15</td>\n",
       "      <td>Soho</td>\n",
       "    </tr>\n",
       "    <tr>\n",
       "      <th>9</th>\n",
       "      <td>12370190</td>\n",
       "      <td>NaN</td>\n",
       "      <td>29.10.2022 06:36:43</td>\n",
       "      <td>Soho</td>\n",
       "    </tr>\n",
       "    <tr>\n",
       "      <th>10</th>\n",
       "      <td>12370190</td>\n",
       "      <td>NaN</td>\n",
       "      <td>29.10.2022 00:35:34</td>\n",
       "      <td>Soho</td>\n",
       "    </tr>\n",
       "    <tr>\n",
       "      <th>11</th>\n",
       "      <td>12370190</td>\n",
       "      <td>NaN</td>\n",
       "      <td>29.10.2022 14:28:48</td>\n",
       "      <td>Soho</td>\n",
       "    </tr>\n",
       "    <tr>\n",
       "      <th>12</th>\n",
       "      <td>12370190</td>\n",
       "      <td>NaN</td>\n",
       "      <td>29.10.2022 22:54:11</td>\n",
       "      <td>Soho</td>\n",
       "    </tr>\n",
       "    <tr>\n",
       "      <th>13</th>\n",
       "      <td>12370190</td>\n",
       "      <td>NaN</td>\n",
       "      <td>29.10.2022 11:45:42</td>\n",
       "      <td>Soho</td>\n",
       "    </tr>\n",
       "    <tr>\n",
       "      <th>14</th>\n",
       "      <td>12370190</td>\n",
       "      <td>NaN</td>\n",
       "      <td>29.10.2022 03:06:12</td>\n",
       "      <td>Soho</td>\n",
       "    </tr>\n",
       "    <tr>\n",
       "      <th>15</th>\n",
       "      <td>12370190</td>\n",
       "      <td>NaN</td>\n",
       "      <td>29.10.2022 05:17:46</td>\n",
       "      <td>Soho</td>\n",
       "    </tr>\n",
       "    <tr>\n",
       "      <th>16</th>\n",
       "      <td>12370190</td>\n",
       "      <td>NaN</td>\n",
       "      <td>29.10.2022 05:50:05</td>\n",
       "      <td>Soho</td>\n",
       "    </tr>\n",
       "    <tr>\n",
       "      <th>17</th>\n",
       "      <td>12370190</td>\n",
       "      <td>NaN</td>\n",
       "      <td>29.10.2022 04:39:49</td>\n",
       "      <td>Soho</td>\n",
       "    </tr>\n",
       "    <tr>\n",
       "      <th>18</th>\n",
       "      <td>12370190</td>\n",
       "      <td>NaN</td>\n",
       "      <td>29.10.2022 14:48:22</td>\n",
       "      <td>Soho</td>\n",
       "    </tr>\n",
       "    <tr>\n",
       "      <th>19</th>\n",
       "      <td>12370190</td>\n",
       "      <td>NaN</td>\n",
       "      <td>29.10.2022 09:53:36</td>\n",
       "      <td>Soho</td>\n",
       "    </tr>\n",
       "    <tr>\n",
       "      <th>20</th>\n",
       "      <td>12370190</td>\n",
       "      <td>NaN</td>\n",
       "      <td>29.10.2022 13:09:40</td>\n",
       "      <td>Soho</td>\n",
       "    </tr>\n",
       "    <tr>\n",
       "      <th>21</th>\n",
       "      <td>12370190</td>\n",
       "      <td>NaN</td>\n",
       "      <td>29.10.2022 12:47:34</td>\n",
       "      <td>Soho</td>\n",
       "    </tr>\n",
       "    <tr>\n",
       "      <th>22</th>\n",
       "      <td>12370190</td>\n",
       "      <td>NaN</td>\n",
       "      <td>29.10.2022 22:42:46</td>\n",
       "      <td>Soho</td>\n",
       "    </tr>\n",
       "    <tr>\n",
       "      <th>23</th>\n",
       "      <td>12370190</td>\n",
       "      <td>NaN</td>\n",
       "      <td>29.10.2022 20:23:32</td>\n",
       "      <td>Soho</td>\n",
       "    </tr>\n",
       "    <tr>\n",
       "      <th>24</th>\n",
       "      <td>12370190</td>\n",
       "      <td>NaN</td>\n",
       "      <td>29.10.2022 18:28:18</td>\n",
       "      <td>Soho</td>\n",
       "    </tr>\n",
       "    <tr>\n",
       "      <th>25</th>\n",
       "      <td>12370190</td>\n",
       "      <td>NaN</td>\n",
       "      <td>29.10.2022 23:11:06</td>\n",
       "      <td>Soho</td>\n",
       "    </tr>\n",
       "    <tr>\n",
       "      <th>26</th>\n",
       "      <td>12370190</td>\n",
       "      <td>NaN</td>\n",
       "      <td>29.10.2022 20:04:32</td>\n",
       "      <td>Soho</td>\n",
       "    </tr>\n",
       "    <tr>\n",
       "      <th>27</th>\n",
       "      <td>12370190</td>\n",
       "      <td>NaN</td>\n",
       "      <td>29.10.2022 22:20:52</td>\n",
       "      <td>Soho</td>\n",
       "    </tr>\n",
       "    <tr>\n",
       "      <th>28</th>\n",
       "      <td>12370190</td>\n",
       "      <td>NaN</td>\n",
       "      <td>29.10.2022 05:34:08</td>\n",
       "      <td>Soho</td>\n",
       "    </tr>\n",
       "    <tr>\n",
       "      <th>29</th>\n",
       "      <td>12370190</td>\n",
       "      <td>NaN</td>\n",
       "      <td>29.10.2022 07:25:12</td>\n",
       "      <td>Soho</td>\n",
       "    </tr>\n",
       "    <tr>\n",
       "      <th>30</th>\n",
       "      <td>16309421</td>\n",
       "      <td>NaN</td>\n",
       "      <td>05.05.2022 10:05:33</td>\n",
       "      <td>Medium</td>\n",
       "    </tr>\n",
       "    <tr>\n",
       "      <th>31</th>\n",
       "      <td>16309421</td>\n",
       "      <td>NaN</td>\n",
       "      <td>05.05.2022 10:28:38</td>\n",
       "      <td>Medium</td>\n",
       "    </tr>\n",
       "  </tbody>\n",
       "</table>\n",
       "</div>"
      ],
      "text/plain": [
       "          ID NUMBER               END_DT SEGMENT\n",
       "0   12373110    NaN  14.03.2024 10:46:02    Soho\n",
       "1   12373110    NaN  13.03.2024 19:48:21    Soho\n",
       "2   12370190    NaN  25.06.2017 11:58:41    Soho\n",
       "3   12370190    NaN  29.10.2022 01:20:34    Soho\n",
       "4   12370190    NaN  29.10.2022 02:20:33    Soho\n",
       "5   12370190    NaN  29.10.2022 05:50:57    Soho\n",
       "6   12370190    NaN  29.10.2022 16:15:39    Soho\n",
       "7   12370190    NaN  29.10.2022 04:00:13    Soho\n",
       "8   12370190    NaN  29.10.2022 01:06:15    Soho\n",
       "9   12370190    NaN  29.10.2022 06:36:43    Soho\n",
       "10  12370190    NaN  29.10.2022 00:35:34    Soho\n",
       "11  12370190    NaN  29.10.2022 14:28:48    Soho\n",
       "12  12370190    NaN  29.10.2022 22:54:11    Soho\n",
       "13  12370190    NaN  29.10.2022 11:45:42    Soho\n",
       "14  12370190    NaN  29.10.2022 03:06:12    Soho\n",
       "15  12370190    NaN  29.10.2022 05:17:46    Soho\n",
       "16  12370190    NaN  29.10.2022 05:50:05    Soho\n",
       "17  12370190    NaN  29.10.2022 04:39:49    Soho\n",
       "18  12370190    NaN  29.10.2022 14:48:22    Soho\n",
       "19  12370190    NaN  29.10.2022 09:53:36    Soho\n",
       "20  12370190    NaN  29.10.2022 13:09:40    Soho\n",
       "21  12370190    NaN  29.10.2022 12:47:34    Soho\n",
       "22  12370190    NaN  29.10.2022 22:42:46    Soho\n",
       "23  12370190    NaN  29.10.2022 20:23:32    Soho\n",
       "24  12370190    NaN  29.10.2022 18:28:18    Soho\n",
       "25  12370190    NaN  29.10.2022 23:11:06    Soho\n",
       "26  12370190    NaN  29.10.2022 20:04:32    Soho\n",
       "27  12370190    NaN  29.10.2022 22:20:52    Soho\n",
       "28  12370190    NaN  29.10.2022 05:34:08    Soho\n",
       "29  12370190    NaN  29.10.2022 07:25:12    Soho\n",
       "30  16309421    NaN  05.05.2022 10:05:33  Medium\n",
       "31  16309421    NaN  05.05.2022 10:28:38  Medium"
      ]
     },
     "execution_count": 28,
     "metadata": {},
     "output_type": "execute_result"
    }
   ],
   "source": [
    "# Sprawdzenie, czy wszystkie numery w kolumnie NUMBER mają 9 cyfr\n",
    "test_9_digits = baza1['NUMBER'].astype(str).str.len() == 9\n",
    "\n",
    "# Wyświetlenie wierszy, które nie mają 9 cyfr\n",
    "baza1[~test_9_digits]"
   ]
  },
  {
   "cell_type": "markdown",
   "metadata": {},
   "source": [
    "### UWAGA !\n",
    "\n",
    "Po zapoznaniu się z otrzymanymi danymi widzę, że w pliku BAZA1 nie występują duplikaty. W tej sytuacji należy wyjaśnić, skąd wynikają braki w kolumnie NUMBER, i zdecydować, czy wprowadzić do bazy danych wartości NaN, czy uzupełnić je \"na sztywno\" pewną wartością.\n",
    "\n",
    "Na potrzeby tego zadania zdecydowałem, że pozostawię te pola puste, ponieważ brak numeru może być spowodowany np. umową, która nie zawiera numeru telefonu."
   ]
  },
  {
   "cell_type": "markdown",
   "metadata": {},
   "source": [
    "##### Zapisujemy ramkę `baza1` do pliku `TEST_BAZA1_CLEANED.csv` w katalogu `data/processed`."
   ]
  },
  {
   "cell_type": "code",
   "execution_count": 31,
   "metadata": {},
   "outputs": [],
   "source": [
    "# Ścieżka do zapisu pliku CSV\n",
    "file_path = '../data/processed/TEST_BAZA1_CLEANED.csv'\n",
    "\n",
    "# Zapisujemy ramkę danych do pliku CSV\n",
    "baza1.to_csv(file_path, index=False)"
   ]
  },
  {
   "cell_type": "markdown",
   "metadata": {},
   "source": [
    " # Podsumowanie\n",
    "W tym notatniku wykonaliśmy pierwszy krok w analizie danych - pozyskaliśmy je i odpowiednio przetworzyliśmy. Dane są gotowe do dalszej pracy, czyli możemy załadować je na bazę danych, a następnie zapoznać się z tym, jakie informacje ze sobą niosą."
   ]
  },
  {
   "cell_type": "code",
   "execution_count": 33,
   "metadata": {},
   "outputs": [
    {
     "name": "stdout",
     "output_type": "stream",
     "text": [
      "Wszystko wygląda OK :) Przechodzimy do kolejnego kroku.\n"
     ]
    }
   ],
   "source": [
    "msg = \"Wszystko wygląda OK :) Przechodzimy do kolejnego kroku.\"\n",
    "print(msg)"
   ]
  },
  {
   "cell_type": "code",
   "execution_count": null,
   "metadata": {},
   "outputs": [],
   "source": []
  }
 ],
 "metadata": {
  "kernelspec": {
   "display_name": "venv_portfolio",
   "language": "python",
   "name": "venv_portfolio"
  },
  "language_info": {
   "codemirror_mode": {
    "name": "ipython",
    "version": 3
   },
   "file_extension": ".py",
   "mimetype": "text/x-python",
   "name": "python",
   "nbconvert_exporter": "python",
   "pygments_lexer": "ipython3",
   "version": "3.12.4"
  },
  "vscode": {
   "interpreter": {
    "hash": "38d75d0df746d7f75dd34c5d1915af59cb55786647bd68b8d9064425d7680b12"
   }
  }
 },
 "nbformat": 4,
 "nbformat_minor": 4
}

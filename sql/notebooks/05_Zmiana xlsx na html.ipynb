{
 "cells": [
  {
   "cell_type": "markdown",
   "id": "c5649a2f-dc7d-48ff-9bbd-bfef66db0e40",
   "metadata": {},
   "source": [
    "# Zadanie 5\n",
    "\n",
    "Zapisz tabelę z pliku tab.xlsx w kodzie html"
   ]
  },
  {
   "cell_type": "markdown",
   "id": "bff9ba7e-b7e6-4957-a5a4-811183501c76",
   "metadata": {},
   "source": [
    "##### Importujemy potrzebne biblioteki wykonujemy zmianę pliku Excela na kod html"
   ]
  },
  {
   "cell_type": "code",
   "execution_count": 17,
   "id": "f812672b-8174-4711-ada6-e32564ff31e1",
   "metadata": {
    "scrolled": true
   },
   "outputs": [
    {
     "data": {
      "text/plain": [
       "<_io.TextIOWrapper name='../data/html/TAB.html' mode='w' encoding='utf-8'>"
      ]
     },
     "execution_count": 17,
     "metadata": {},
     "output_type": "execute_result"
    }
   ],
   "source": [
    "from xlsx2html import xlsx2html\n",
    "from bs4 import BeautifulSoup\n",
    "\n",
    "# Zamiana pliku Arkusza 1 z pliku TAB.xlsx na html\n",
    "xlsx2html('../data/raw/TAB.xlsx', '../data/html/TAB.html', sheet='Arkusz1')"
   ]
  },
  {
   "cell_type": "markdown",
   "id": "9efa9767-b819-4e1f-acca-031333a16b7a",
   "metadata": {},
   "source": [
    "### Można powiedzieć, że zadanie zostało pomyślnie wykonane – kod HTML znajduje się w pliku TAB.html w folderze data/html/.\n",
    "\n",
    "W zależności od tego, do jakiego celu miałby zostać użyty ten kod, poniżej znajduje się rozwiązanie, które uporządkuje otrzymany kod HTML. Obecnie każda komórka Excela ma przypisany styl CSS bezpośrednio w kodzie HTML. Aby ułatwić edycję wyglądu dla grup komórek z takim samym stylem, proponuję przenieść te style na początek dokumentu, co pozwoli na ich wygodniejszą modyfikację."
   ]
  },
  {
   "cell_type": "code",
   "execution_count": 18,
   "id": "64471b7e-3298-4c25-b34a-62d74f73622b",
   "metadata": {},
   "outputs": [],
   "source": [
    "# Wczytanie wygenerowanego pliku HTML\n",
    "with open('../data/html/TAB.html', 'r', encoding='utf-8') as file:\n",
    "    html_content = file.read()\n",
    "\n",
    "# Parsowanie HTML za pomocą BeautifulSoup\n",
    "soup = BeautifulSoup(html_content, 'html.parser')\n",
    "\n",
    "# Zbiór na unikalne style\n",
    "style_dict = {}\n",
    "\n",
    "# Przechodzenie po każdej komórce tabeli i zbieranie stylów\n",
    "for cell in soup.find_all(['td', 'th']):\n",
    "    style = cell.get('style')\n",
    "    if style and style not in style_dict:\n",
    "        style_name = f\"style_{len(style_dict) + 1}\"\n",
    "        style_dict[style] = style_name\n",
    "        cell['class'] = style_name \n",
    "        del cell['style']\n",
    "    elif style:\n",
    "        # Jeśli styl już istnieje, przypisz istniejącą klasę\n",
    "        cell['class'] = style_dict[style]\n",
    "        del cell['style']\n",
    "\n",
    "# Dodanie stylów do nagłówka w sekcji <style>\n",
    "style_tag = soup.new_tag('style')\n",
    "style_content = \"\\n\".join([f\".{class_name} {{{style}}}\" for style, class_name in style_dict.items()])\n",
    "style_tag.string = style_content\n",
    "soup.head.append(style_tag)\n",
    "\n",
    "# Zapisanie uproszczonego HTML z przeniesionymi stylami do pliku\n",
    "with open('../data/html/TAB_cleaned.html', 'w', encoding='utf-8') as file:\n",
    "    file.write(str(soup))"
   ]
  },
  {
   "cell_type": "code",
   "execution_count": null,
   "id": "cdc0f898-3de5-4d58-a270-3360f0fae8c8",
   "metadata": {},
   "outputs": [],
   "source": []
  }
 ],
 "metadata": {
  "kernelspec": {
   "display_name": "Python 3 (ipykernel)",
   "language": "python",
   "name": "python3"
  },
  "language_info": {
   "codemirror_mode": {
    "name": "ipython",
    "version": 3
   },
   "file_extension": ".py",
   "mimetype": "text/x-python",
   "name": "python",
   "nbconvert_exporter": "python",
   "pygments_lexer": "ipython3",
   "version": "3.12.4"
  }
 },
 "nbformat": 4,
 "nbformat_minor": 5
}

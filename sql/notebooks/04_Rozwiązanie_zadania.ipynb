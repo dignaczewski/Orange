{
 "cells": [
  {
   "cell_type": "markdown",
   "id": "f8ef826a-2abf-462d-868e-eb64a9471c23",
   "metadata": {},
   "source": [
    " # Rozwiązanie zadań\n",
    "W notatniku tym rozwiązane zostaną zlecone zadania, w oparciu o stworzoną bazę SQL."
   ]
  },
  {
   "cell_type": "markdown",
   "id": "d0fe34c8-9e81-44a3-9b23-0edfd1e049f4",
   "metadata": {},
   "source": [
    "## Połączenie z bazą danych"
   ]
  },
  {
   "cell_type": "markdown",
   "id": "0b738439-a670-42cc-ba02-f62bbb3c2bcf",
   "metadata": {},
   "source": [
    "##### Importujemy potrzebne biblioteki oraz plik z ukrytymi danymi do logowania"
   ]
  },
  {
   "cell_type": "code",
   "execution_count": 37,
   "id": "091a87c2-56ec-45dd-a6d6-eddc9470c6b9",
   "metadata": {},
   "outputs": [],
   "source": [
    "import psycopg2\n",
    "from dotenv import load_dotenv\n",
    "import os\n",
    "from sqlalchemy import create_engine\n",
    "from sqlalchemy import text\n",
    "import pandas as pd"
   ]
  },
  {
   "cell_type": "code",
   "execution_count": 16,
   "id": "76568d2e-2870-4b6c-a56e-550521e0a1e0",
   "metadata": {},
   "outputs": [
    {
     "data": {
      "text/plain": [
       "True"
      ]
     },
     "execution_count": 16,
     "metadata": {},
     "output_type": "execute_result"
    }
   ],
   "source": [
    "# Ładujemy zmienne środowiskowe z pliku .env\n",
    "load_dotenv('DB_pass.env')"
   ]
  },
  {
   "cell_type": "markdown",
   "id": "f72f7468-db82-44fd-acfb-190bf8d4f9ba",
   "metadata": {},
   "source": [
    "##### Podłączamy się do bazy danych"
   ]
  },
  {
   "cell_type": "code",
   "execution_count": 19,
   "id": "4fe126d3-b761-4306-95ea-1c95fc1a38ed",
   "metadata": {},
   "outputs": [],
   "source": [
    "# Tworzymy url połączenia\n",
    "url = f\"postgresql://{os.getenv('DB_USER')}:{os.getenv('DB_PASSWORD')}@{os.getenv('DB_HOST')}:{os.getenv('DB_PORT')}/{os.getenv('N_DB_NAME')}\"\n",
    "\n",
    "# Tworzymy engine dla sqlalchemy\n",
    "engine = create_engine(url)"
   ]
  },
  {
   "cell_type": "markdown",
   "id": "b87e4ca7-67f9-4694-9761-990c9cec9e9b",
   "metadata": {},
   "source": [
    "# Zadanie 1\n",
    "\n",
    "Wybierz z tabeli `test_baza1` **NUMBERY** z `END_DT` większą od dziś oraz mniejszą niż 90 dni od dziś, oraz z segmentem **small** i **soho**.  \n",
    "Do tych danych dopisz rekomendacje ofertowe (`PLAN`) z tabeli `test_baza2`.  \n",
    "Jeżeli w drugiej tabeli nie ma rekomendacji, to przypisz **S** dla **soho** oraz **M** dla **small**.  \n",
    "Wyniki zapisz do tabeli **tmp**."
   ]
  },
  {
   "cell_type": "code",
   "execution_count": 32,
   "id": "9154e2fd-61ba-4b42-9cd0-d3aa0b3d20ce",
   "metadata": {},
   "outputs": [],
   "source": [
    "# Wczytujemy kod SQL z pliku\n",
    "with open('../sql/zadanie01.sql', 'r') as file:\n",
    "    sql_query = file.read()\n",
    "\n",
    "# Wykonanie zapytania z pliku SQL\n",
    "with engine.begin() as connection:\n",
    "    connection.execute(text(sql_query))"
   ]
  },
  {
   "cell_type": "code",
   "execution_count": 41,
   "id": "807fe717-7882-44c8-a4e3-6141ac1ad9d4",
   "metadata": {},
   "outputs": [
    {
     "data": {
      "text/html": [
       "<div>\n",
       "<style scoped>\n",
       "    .dataframe tbody tr th:only-of-type {\n",
       "        vertical-align: middle;\n",
       "    }\n",
       "\n",
       "    .dataframe tbody tr th {\n",
       "        vertical-align: top;\n",
       "    }\n",
       "\n",
       "    .dataframe thead th {\n",
       "        text-align: right;\n",
       "    }\n",
       "</style>\n",
       "<table border=\"1\" class=\"dataframe\">\n",
       "  <thead>\n",
       "    <tr style=\"text-align: right;\">\n",
       "      <th></th>\n",
       "      <th>number</th>\n",
       "      <th>plan</th>\n",
       "    </tr>\n",
       "  </thead>\n",
       "  <tbody>\n",
       "    <tr>\n",
       "      <th>0</th>\n",
       "      <td>506785018</td>\n",
       "      <td>X</td>\n",
       "    </tr>\n",
       "    <tr>\n",
       "      <th>1</th>\n",
       "      <td>528945862</td>\n",
       "      <td>M</td>\n",
       "    </tr>\n",
       "    <tr>\n",
       "      <th>2</th>\n",
       "      <td>572701364</td>\n",
       "      <td>M</td>\n",
       "    </tr>\n",
       "    <tr>\n",
       "      <th>3</th>\n",
       "      <td>504584766</td>\n",
       "      <td>M</td>\n",
       "    </tr>\n",
       "    <tr>\n",
       "      <th>4</th>\n",
       "      <td>586516824</td>\n",
       "      <td>M</td>\n",
       "    </tr>\n",
       "  </tbody>\n",
       "</table>\n",
       "</div>"
      ],
      "text/plain": [
       "      number plan\n",
       "0  506785018    X\n",
       "1  528945862    M\n",
       "2  572701364    M\n",
       "3  504584766    M\n",
       "4  586516824    M"
      ]
     },
     "execution_count": 41,
     "metadata": {},
     "output_type": "execute_result"
    }
   ],
   "source": [
    "# Zapytanie SQL, aby sprawdzić 5 pierwszych wierszy z tabeli 'tmp'\n",
    "query = \"SELECT * FROM tmp LIMIT 5;\"\n",
    "\n",
    "# Wczytanie danych do Pandas za pomocą read_sql\n",
    "with engine.connect() as connection:\n",
    "    df_zadanie01 = pd.read_sql(query, connection)\n",
    "\n",
    "df_zadanie01.head()"
   ]
  },
  {
   "cell_type": "markdown",
   "id": "ca9de69c-89a3-46f1-a694-fa8960c04fc6",
   "metadata": {},
   "source": [
    "# Zadanie 2\n",
    "\n",
    "Podsumuj wyniki z tabeli `tmp` - liczba rekomendacji per `PLAN`.  \r\n",
    "Wyniki posortuj po rekomendacji zgodnie z kolejnością **S**, **M**, **L**, **X**\r\n"
   ]
  },
  {
   "cell_type": "code",
   "execution_count": 58,
   "id": "647dcc3e-aff7-4cdc-b4fb-6b09935444fd",
   "metadata": {},
   "outputs": [],
   "source": [
    "# Wczytujemy kod SQL z pliku\n",
    "with open('../sql/zadanie02.sql', 'r') as file:\n",
    "    sql_query = file.read()\n",
    "\n",
    "# Wykonanie zapytania z pliku SQL\n",
    "with engine.begin() as connection:\n",
    "    connection.execute(text(sql_query))"
   ]
  },
  {
   "cell_type": "code",
   "execution_count": 60,
   "id": "f258b154-97bb-4cce-ad86-717da7bef446",
   "metadata": {},
   "outputs": [
    {
     "data": {
      "text/html": [
       "<div>\n",
       "<style scoped>\n",
       "    .dataframe tbody tr th:only-of-type {\n",
       "        vertical-align: middle;\n",
       "    }\n",
       "\n",
       "    .dataframe tbody tr th {\n",
       "        vertical-align: top;\n",
       "    }\n",
       "\n",
       "    .dataframe thead th {\n",
       "        text-align: right;\n",
       "    }\n",
       "</style>\n",
       "<table border=\"1\" class=\"dataframe\">\n",
       "  <thead>\n",
       "    <tr style=\"text-align: right;\">\n",
       "      <th></th>\n",
       "      <th>plan</th>\n",
       "      <th>no_of_recommendations</th>\n",
       "    </tr>\n",
       "  </thead>\n",
       "  <tbody>\n",
       "    <tr>\n",
       "      <th>0</th>\n",
       "      <td>S</td>\n",
       "      <td>184</td>\n",
       "    </tr>\n",
       "    <tr>\n",
       "      <th>1</th>\n",
       "      <td>M</td>\n",
       "      <td>504</td>\n",
       "    </tr>\n",
       "    <tr>\n",
       "      <th>2</th>\n",
       "      <td>L</td>\n",
       "      <td>114</td>\n",
       "    </tr>\n",
       "    <tr>\n",
       "      <th>3</th>\n",
       "      <td>X</td>\n",
       "      <td>153</td>\n",
       "    </tr>\n",
       "  </tbody>\n",
       "</table>\n",
       "</div>"
      ],
      "text/plain": [
       "  plan  no_of_recommendations\n",
       "0    S                    184\n",
       "1    M                    504\n",
       "2    L                    114\n",
       "3    X                    153"
      ]
     },
     "execution_count": 60,
     "metadata": {},
     "output_type": "execute_result"
    }
   ],
   "source": [
    "# Zapytanie SQL, aby przedstawić wynik zadania\n",
    "query = \"SELECT * FROM plan_recommendations;\"\n",
    "\n",
    "# Wczytanie danych do Pandas za pomocą read_sql\n",
    "with engine.connect() as connection:\n",
    "    df_zadanie02 = pd.read_sql(query, connection)\n",
    "\n",
    "df_zadanie02"
   ]
  },
  {
   "cell_type": "markdown",
   "id": "34bb6395-35c9-4000-8a88-6fabcf602e1a",
   "metadata": {},
   "source": [
    "# Zadanie 3\n",
    "\n",
    "Utwórz rekomendację per ID. Dla każdego ID z tabeli `test_baza2` wybierz taką rekomendację, \n",
    "która na danym ID występuje najczęściej.\n",
    "\n",
    " W przypadku dopasowania kilku rekomendacji o tej samej \r\n",
    "liczności - wybierz wyższą (**S < M < L < X**). Przykładowo, jeśli dla **ID = 1** mamy dwie rekomendacje **M**, dwie rekomendacje **S** oraz jedną rekomendację **X** - wybierz **M**.\r\n"
   ]
  },
  {
   "cell_type": "code",
   "execution_count": 74,
   "id": "bedeb421-714c-4bb7-aef6-0c7bfcca816d",
   "metadata": {},
   "outputs": [],
   "source": [
    "# Wczytujemy kod SQL z pliku\n",
    "with open('../sql/zadanie03.sql', 'r') as file:\n",
    "    sql_query = file.read()\n",
    "\n",
    "# Wykonanie zapytania z pliku SQL\n",
    "with engine.begin() as connection:\n",
    "    connection.execute(text(sql_query))"
   ]
  },
  {
   "cell_type": "code",
   "execution_count": 76,
   "id": "c0c46d6f-0424-418c-87c7-e17c4592bfbf",
   "metadata": {},
   "outputs": [
    {
     "data": {
      "text/html": [
       "<div>\n",
       "<style scoped>\n",
       "    .dataframe tbody tr th:only-of-type {\n",
       "        vertical-align: middle;\n",
       "    }\n",
       "\n",
       "    .dataframe tbody tr th {\n",
       "        vertical-align: top;\n",
       "    }\n",
       "\n",
       "    .dataframe thead th {\n",
       "        text-align: right;\n",
       "    }\n",
       "</style>\n",
       "<table border=\"1\" class=\"dataframe\">\n",
       "  <thead>\n",
       "    <tr style=\"text-align: right;\">\n",
       "      <th></th>\n",
       "      <th>id</th>\n",
       "      <th>recommended_plan</th>\n",
       "    </tr>\n",
       "  </thead>\n",
       "  <tbody>\n",
       "    <tr>\n",
       "      <th>0</th>\n",
       "      <td>10001232</td>\n",
       "      <td>M</td>\n",
       "    </tr>\n",
       "    <tr>\n",
       "      <th>1</th>\n",
       "      <td>10002674</td>\n",
       "      <td>M</td>\n",
       "    </tr>\n",
       "    <tr>\n",
       "      <th>2</th>\n",
       "      <td>10006750</td>\n",
       "      <td>M</td>\n",
       "    </tr>\n",
       "    <tr>\n",
       "      <th>3</th>\n",
       "      <td>10008093</td>\n",
       "      <td>M</td>\n",
       "    </tr>\n",
       "    <tr>\n",
       "      <th>4</th>\n",
       "      <td>10010349</td>\n",
       "      <td>M</td>\n",
       "    </tr>\n",
       "    <tr>\n",
       "      <th>5</th>\n",
       "      <td>10014910</td>\n",
       "      <td>L</td>\n",
       "    </tr>\n",
       "    <tr>\n",
       "      <th>6</th>\n",
       "      <td>10015383</td>\n",
       "      <td>M</td>\n",
       "    </tr>\n",
       "    <tr>\n",
       "      <th>7</th>\n",
       "      <td>10016352</td>\n",
       "      <td>M</td>\n",
       "    </tr>\n",
       "    <tr>\n",
       "      <th>8</th>\n",
       "      <td>10019309</td>\n",
       "      <td>M</td>\n",
       "    </tr>\n",
       "    <tr>\n",
       "      <th>9</th>\n",
       "      <td>10022369</td>\n",
       "      <td>S</td>\n",
       "    </tr>\n",
       "  </tbody>\n",
       "</table>\n",
       "</div>"
      ],
      "text/plain": [
       "         id recommended_plan\n",
       "0  10001232                M\n",
       "1  10002674                M\n",
       "2  10006750                M\n",
       "3  10008093                M\n",
       "4  10010349                M\n",
       "5  10014910                L\n",
       "6  10015383                M\n",
       "7  10016352                M\n",
       "8  10019309                M\n",
       "9  10022369                S"
      ]
     },
     "execution_count": 76,
     "metadata": {},
     "output_type": "execute_result"
    }
   ],
   "source": [
    "# Zapytanie SQL, aby przedstawić wynik zadania\n",
    "query = \"SELECT * FROM recommended_plan;\"\n",
    "\n",
    "# Wczytanie danych do Pandas za pomocą read_sql\n",
    "with engine.connect() as connection:\n",
    "    df_zadanie03 = pd.read_sql(query, connection)\n",
    "\n",
    "df_zadanie03.head(10)"
   ]
  },
  {
   "cell_type": "markdown",
   "id": "84c3cfc6-9073-4746-8a82-76af327735fe",
   "metadata": {},
   "source": [
    "# Zadanie 4\n",
    "\n",
    "Dla każdego `id` wypisz listę rekomendacji w nowej kolumnie w formacie: \"plan: number, number, plan: number, number\"\n",
    "\n",
    "np. M: 577290614, 581909797, 593369145, S: 512000217, 524579635, 546508046, 577773401, X: 553705869.\n"
   ]
  },
  {
   "cell_type": "code",
   "execution_count": 95,
   "id": "8ebbf4b9-72d6-4a51-adc7-5020d0089bed",
   "metadata": {},
   "outputs": [],
   "source": [
    "# Wczytujemy kod SQL z pliku\n",
    "with open('../sql/zadanie04.sql', 'r') as file:\n",
    "    sql_query = file.read()\n",
    "\n",
    "# Wykonanie zapytania z pliku SQL\n",
    "with engine.begin() as connection:\n",
    "    connection.execute(text(sql_query))"
   ]
  },
  {
   "cell_type": "code",
   "execution_count": 97,
   "id": "589505b3-d72b-4fe0-a313-aa8e691166a4",
   "metadata": {},
   "outputs": [
    {
     "data": {
      "text/html": [
       "<div>\n",
       "<style scoped>\n",
       "    .dataframe tbody tr th:only-of-type {\n",
       "        vertical-align: middle;\n",
       "    }\n",
       "\n",
       "    .dataframe tbody tr th {\n",
       "        vertical-align: top;\n",
       "    }\n",
       "\n",
       "    .dataframe thead th {\n",
       "        text-align: right;\n",
       "    }\n",
       "</style>\n",
       "<table border=\"1\" class=\"dataframe\">\n",
       "  <thead>\n",
       "    <tr style=\"text-align: right;\">\n",
       "      <th></th>\n",
       "      <th>id</th>\n",
       "      <th>recommendations</th>\n",
       "    </tr>\n",
       "  </thead>\n",
       "  <tbody>\n",
       "    <tr>\n",
       "      <th>0</th>\n",
       "      <td>10001232</td>\n",
       "      <td>S: 548448707, M: 591067693, 523586652</td>\n",
       "    </tr>\n",
       "    <tr>\n",
       "      <th>1</th>\n",
       "      <td>10002674</td>\n",
       "      <td>M: 518170097, 550293089</td>\n",
       "    </tr>\n",
       "    <tr>\n",
       "      <th>2</th>\n",
       "      <td>10006750</td>\n",
       "      <td>M: 553998152, 582220904</td>\n",
       "    </tr>\n",
       "    <tr>\n",
       "      <th>3</th>\n",
       "      <td>10008093</td>\n",
       "      <td>M: 525856058</td>\n",
       "    </tr>\n",
       "    <tr>\n",
       "      <th>4</th>\n",
       "      <td>10010349</td>\n",
       "      <td>M: 501111806, 564232631, 553825128</td>\n",
       "    </tr>\n",
       "    <tr>\n",
       "      <th>5</th>\n",
       "      <td>10014910</td>\n",
       "      <td>L: 557788700</td>\n",
       "    </tr>\n",
       "    <tr>\n",
       "      <th>6</th>\n",
       "      <td>10015383</td>\n",
       "      <td>M: 585230923, 544192241</td>\n",
       "    </tr>\n",
       "    <tr>\n",
       "      <th>7</th>\n",
       "      <td>10016352</td>\n",
       "      <td>M: 524321330</td>\n",
       "    </tr>\n",
       "    <tr>\n",
       "      <th>8</th>\n",
       "      <td>10019309</td>\n",
       "      <td>M: 546984948</td>\n",
       "    </tr>\n",
       "    <tr>\n",
       "      <th>9</th>\n",
       "      <td>10022369</td>\n",
       "      <td>S: 552276126, X: 534359690</td>\n",
       "    </tr>\n",
       "    <tr>\n",
       "      <th>10</th>\n",
       "      <td>10022836</td>\n",
       "      <td>S: 570992866</td>\n",
       "    </tr>\n",
       "    <tr>\n",
       "      <th>11</th>\n",
       "      <td>10028166</td>\n",
       "      <td>L: 544507219</td>\n",
       "    </tr>\n",
       "    <tr>\n",
       "      <th>12</th>\n",
       "      <td>10032400</td>\n",
       "      <td>L: 512740400, 521547261</td>\n",
       "    </tr>\n",
       "    <tr>\n",
       "      <th>13</th>\n",
       "      <td>10033686</td>\n",
       "      <td>M: 589895553, 544469379, L: 525170631</td>\n",
       "    </tr>\n",
       "    <tr>\n",
       "      <th>14</th>\n",
       "      <td>10041244</td>\n",
       "      <td>X: 538262715</td>\n",
       "    </tr>\n",
       "  </tbody>\n",
       "</table>\n",
       "</div>"
      ],
      "text/plain": [
       "          id                        recommendations\n",
       "0   10001232  S: 548448707, M: 591067693, 523586652\n",
       "1   10002674                M: 518170097, 550293089\n",
       "2   10006750                M: 553998152, 582220904\n",
       "3   10008093                           M: 525856058\n",
       "4   10010349     M: 501111806, 564232631, 553825128\n",
       "5   10014910                           L: 557788700\n",
       "6   10015383                M: 585230923, 544192241\n",
       "7   10016352                           M: 524321330\n",
       "8   10019309                           M: 546984948\n",
       "9   10022369             S: 552276126, X: 534359690\n",
       "10  10022836                           S: 570992866\n",
       "11  10028166                           L: 544507219\n",
       "12  10032400                L: 512740400, 521547261\n",
       "13  10033686  M: 589895553, 544469379, L: 525170631\n",
       "14  10041244                           X: 538262715"
      ]
     },
     "execution_count": 97,
     "metadata": {},
     "output_type": "execute_result"
    }
   ],
   "source": [
    "# Zapytanie SQL, aby przedstawić wynik zadania\n",
    "query = \"SELECT * FROM recommendation_list_per_id;\"\n",
    "\n",
    "# Wczytanie danych do Pandas za pomocą read_sql\n",
    "with engine.connect() as connection:\n",
    "    df_zadanie04 = pd.read_sql(query, connection)\n",
    "\n",
    "df_zadanie04.head(15)"
   ]
  },
  {
   "cell_type": "code",
   "execution_count": null,
   "id": "c5c92619-0ea2-44b5-b9d9-ae8a67c199fb",
   "metadata": {},
   "outputs": [],
   "source": []
  }
 ],
 "metadata": {
  "kernelspec": {
   "display_name": "Python 3 (ipykernel)",
   "language": "python",
   "name": "python3"
  },
  "language_info": {
   "codemirror_mode": {
    "name": "ipython",
    "version": 3
   },
   "file_extension": ".py",
   "mimetype": "text/x-python",
   "name": "python",
   "nbconvert_exporter": "python",
   "pygments_lexer": "ipython3",
   "version": "3.12.4"
  }
 },
 "nbformat": 4,
 "nbformat_minor": 5
}

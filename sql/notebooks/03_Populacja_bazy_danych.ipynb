{
 "cells": [
  {
   "cell_type": "markdown",
   "metadata": {},
   "source": [
    " # Opis notatnika\n",
    "Głównym celem w tym notatniku jest sprawdzenie i ewentualne dostosowanie struktury danych z plików źródłowych do formatu zgodnego z `Postgres`, a następnie wgranie ich na nasz serwer. Dzięki temu w późniejszych krokach możemy niezależnie użyć danych do analizy czy raportowania."
   ]
  },
  {
   "cell_type": "markdown",
   "metadata": {},
   "source": [
    "## Połączenie z bazą danych"
   ]
  },
  {
   "cell_type": "markdown",
   "metadata": {},
   "source": [
    "##### Importujemy potrzebne biblioteki oraz plik z ukrytymi danymi do logowania"
   ]
  },
  {
   "cell_type": "code",
   "execution_count": 5,
   "metadata": {},
   "outputs": [],
   "source": [
    "import psycopg2\n",
    "from dotenv import load_dotenv\n",
    "import os\n",
    "from sqlalchemy import create_engine\n",
    "import pandas as pd\n",
    "from sqlalchemy import text"
   ]
  },
  {
   "cell_type": "code",
   "execution_count": 6,
   "metadata": {
    "scrolled": true
   },
   "outputs": [
    {
     "data": {
      "text/plain": [
       "True"
      ]
     },
     "execution_count": 6,
     "metadata": {},
     "output_type": "execute_result"
    }
   ],
   "source": [
    "# Ładujemy zmienne środowiskowe z pliku .env\n",
    "load_dotenv('DB_pass.env')"
   ]
  },
  {
   "cell_type": "markdown",
   "metadata": {},
   "source": [
    "##### Podłączamy się do bazy danych"
   ]
  },
  {
   "cell_type": "code",
   "execution_count": 8,
   "metadata": {},
   "outputs": [],
   "source": [
    "# Tworzymy url połączenia\n",
    "url = f\"postgresql://{os.getenv('DB_USER')}:{os.getenv('DB_PASSWORD')}@{os.getenv('DB_HOST')}:{os.getenv('DB_PORT')}/{os.getenv('N_DB_NAME')}\"\n",
    "\n",
    "# Tworzymy engine dla sqlalchemy\n",
    "engine = create_engine(url)"
   ]
  },
  {
   "cell_type": "markdown",
   "metadata": {},
   "source": [
    " # Załadowanie i wczytanie ramek do obszaru roboczego"
   ]
  },
  {
   "cell_type": "markdown",
   "metadata": {},
   "source": [
    "##### Tworzymy funkcję `load_raw_data`, która przyjmuje jeden parametr `file_name`, czyli nazwę pliku do zaczytania. Jej zadaniem jest wczytanie surowego pliku, zmodyfikowanie nazw kolumn z `NAZWA_KOLUMNY` na `nazwa_kolumny` oraz zwrócenie tak zmodyfikowanej ramki danych."
   ]
  },
  {
   "cell_type": "code",
   "execution_count": 11,
   "metadata": {},
   "outputs": [],
   "source": [
    "def load_raw_data(file_name):\n",
    "    df = pd.read_csv(file_name)\n",
    "    df.columns = df.columns.str.lower()\n",
    "    return df"
   ]
  },
  {
   "cell_type": "markdown",
   "metadata": {},
   "source": [
    "##### Zaczytujemy poszczególne pliki do ramek i sprawdzamy typy danych, czy pokrywają się z bazą danych w postgresql"
   ]
  },
  {
   "cell_type": "code",
   "execution_count": 13,
   "metadata": {
    "scrolled": true
   },
   "outputs": [
    {
     "data": {
      "text/html": [
       "<div>\n",
       "<style scoped>\n",
       "    .dataframe tbody tr th:only-of-type {\n",
       "        vertical-align: middle;\n",
       "    }\n",
       "\n",
       "    .dataframe tbody tr th {\n",
       "        vertical-align: top;\n",
       "    }\n",
       "\n",
       "    .dataframe thead th {\n",
       "        text-align: right;\n",
       "    }\n",
       "</style>\n",
       "<table border=\"1\" class=\"dataframe\">\n",
       "  <thead>\n",
       "    <tr style=\"text-align: right;\">\n",
       "      <th></th>\n",
       "      <th>id</th>\n",
       "      <th>number</th>\n",
       "      <th>end_dt</th>\n",
       "      <th>segment</th>\n",
       "    </tr>\n",
       "  </thead>\n",
       "  <tbody>\n",
       "    <tr>\n",
       "      <th>0</th>\n",
       "      <td>12373110</td>\n",
       "      <td>NaN</td>\n",
       "      <td>14.03.2024 10:46:02</td>\n",
       "      <td>Soho</td>\n",
       "    </tr>\n",
       "    <tr>\n",
       "      <th>1</th>\n",
       "      <td>12373110</td>\n",
       "      <td>NaN</td>\n",
       "      <td>13.03.2024 19:48:21</td>\n",
       "      <td>Soho</td>\n",
       "    </tr>\n",
       "    <tr>\n",
       "      <th>2</th>\n",
       "      <td>12370190</td>\n",
       "      <td>NaN</td>\n",
       "      <td>25.06.2017 11:58:41</td>\n",
       "      <td>Soho</td>\n",
       "    </tr>\n",
       "    <tr>\n",
       "      <th>3</th>\n",
       "      <td>12370190</td>\n",
       "      <td>NaN</td>\n",
       "      <td>29.10.2022 01:20:34</td>\n",
       "      <td>Soho</td>\n",
       "    </tr>\n",
       "    <tr>\n",
       "      <th>4</th>\n",
       "      <td>12370190</td>\n",
       "      <td>NaN</td>\n",
       "      <td>29.10.2022 02:20:33</td>\n",
       "      <td>Soho</td>\n",
       "    </tr>\n",
       "  </tbody>\n",
       "</table>\n",
       "</div>"
      ],
      "text/plain": [
       "         id  number               end_dt segment\n",
       "0  12373110     NaN  14.03.2024 10:46:02    Soho\n",
       "1  12373110     NaN  13.03.2024 19:48:21    Soho\n",
       "2  12370190     NaN  25.06.2017 11:58:41    Soho\n",
       "3  12370190     NaN  29.10.2022 01:20:34    Soho\n",
       "4  12370190     NaN  29.10.2022 02:20:33    Soho"
      ]
     },
     "execution_count": 13,
     "metadata": {},
     "output_type": "execute_result"
    }
   ],
   "source": [
    "baza1 = load_raw_data('../data/processed/TEST_BAZA1_CLEANED.csv')\n",
    "baza1.head()"
   ]
  },
  {
   "cell_type": "code",
   "execution_count": 14,
   "metadata": {},
   "outputs": [
    {
     "data": {
      "text/plain": [
       "id           int64\n",
       "number     float64\n",
       "end_dt      object\n",
       "segment     object\n",
       "dtype: object"
      ]
     },
     "execution_count": 14,
     "metadata": {},
     "output_type": "execute_result"
    }
   ],
   "source": [
    "baza1.dtypes"
   ]
  },
  {
   "cell_type": "code",
   "execution_count": 15,
   "metadata": {},
   "outputs": [
    {
     "name": "stdout",
     "output_type": "stream",
     "text": [
      "0   2024-03-14 10:46:02\n",
      "1   2024-03-13 19:48:21\n",
      "2   2017-06-25 11:58:41\n",
      "3   2022-10-29 01:20:34\n",
      "4   2022-10-29 02:20:33\n",
      "Name: end_dt, dtype: datetime64[ns]\n"
     ]
    }
   ],
   "source": [
    "# Konwersja kolumny 'END_DT' na datetime z określeniem konkretnego formatu\n",
    "baza1['end_dt'] = pd.to_datetime(baza1['end_dt'], format='%d.%m.%Y %H:%M:%S', errors='coerce')\n",
    "\n",
    "# Sprawdzenie wyników konwersji\n",
    "print(baza1['end_dt'].head())"
   ]
  },
  {
   "cell_type": "code",
   "execution_count": 16,
   "metadata": {},
   "outputs": [
    {
     "name": "stdout",
     "output_type": "stream",
     "text": [
      "id                  int64\n",
      "number             object\n",
      "end_dt     datetime64[ns]\n",
      "segment            object\n",
      "dtype: object\n"
     ]
    }
   ],
   "source": [
    "# Konwersja kolumny 'NUMBER' na ciąg znaków, ponieważ kolumna reprezentuje kategorię/identyfikator, a nie wartości liczbowe.\n",
    "baza1['number'] = baza1['number'].astype(str)\n",
    "\n",
    "# Usunięcie \".0\" z końca liczby w formacie string\n",
    "baza1['number'] = baza1['number'].str.replace(r'\\.0$', '', regex=True)\n",
    "\n",
    "# Sprawdzenie wyników\n",
    "print(baza1.dtypes)"
   ]
  },
  {
   "cell_type": "code",
   "execution_count": 17,
   "metadata": {},
   "outputs": [
    {
     "data": {
      "text/html": [
       "<div>\n",
       "<style scoped>\n",
       "    .dataframe tbody tr th:only-of-type {\n",
       "        vertical-align: middle;\n",
       "    }\n",
       "\n",
       "    .dataframe tbody tr th {\n",
       "        vertical-align: top;\n",
       "    }\n",
       "\n",
       "    .dataframe thead th {\n",
       "        text-align: right;\n",
       "    }\n",
       "</style>\n",
       "<table border=\"1\" class=\"dataframe\">\n",
       "  <thead>\n",
       "    <tr style=\"text-align: right;\">\n",
       "      <th></th>\n",
       "      <th>id</th>\n",
       "      <th>number</th>\n",
       "      <th>plan</th>\n",
       "    </tr>\n",
       "  </thead>\n",
       "  <tbody>\n",
       "    <tr>\n",
       "      <th>0</th>\n",
       "      <td>10886857</td>\n",
       "      <td>531778955</td>\n",
       "      <td>S</td>\n",
       "    </tr>\n",
       "    <tr>\n",
       "      <th>1</th>\n",
       "      <td>10886857</td>\n",
       "      <td>500830441</td>\n",
       "      <td>S</td>\n",
       "    </tr>\n",
       "    <tr>\n",
       "      <th>2</th>\n",
       "      <td>10886857</td>\n",
       "      <td>599709277</td>\n",
       "      <td>S</td>\n",
       "    </tr>\n",
       "    <tr>\n",
       "      <th>3</th>\n",
       "      <td>10886857</td>\n",
       "      <td>580058812</td>\n",
       "      <td>S</td>\n",
       "    </tr>\n",
       "    <tr>\n",
       "      <th>4</th>\n",
       "      <td>10886857</td>\n",
       "      <td>542422081</td>\n",
       "      <td>S</td>\n",
       "    </tr>\n",
       "  </tbody>\n",
       "</table>\n",
       "</div>"
      ],
      "text/plain": [
       "         id     number plan\n",
       "0  10886857  531778955    S\n",
       "1  10886857  500830441    S\n",
       "2  10886857  599709277    S\n",
       "3  10886857  580058812    S\n",
       "4  10886857  542422081    S"
      ]
     },
     "execution_count": 17,
     "metadata": {},
     "output_type": "execute_result"
    }
   ],
   "source": [
    "baza2 = load_raw_data('../data/processed/TEST_BAZA2_CLEANED.csv')\n",
    "baza2.head()"
   ]
  },
  {
   "cell_type": "code",
   "execution_count": 18,
   "metadata": {},
   "outputs": [
    {
     "data": {
      "text/plain": [
       "id         int64\n",
       "number     int64\n",
       "plan      object\n",
       "dtype: object"
      ]
     },
     "execution_count": 18,
     "metadata": {},
     "output_type": "execute_result"
    }
   ],
   "source": [
    "baza2.dtypes"
   ]
  },
  {
   "cell_type": "code",
   "execution_count": 19,
   "metadata": {
    "scrolled": true
   },
   "outputs": [
    {
     "name": "stdout",
     "output_type": "stream",
     "text": [
      "id         int64\n",
      "number    object\n",
      "plan      object\n",
      "dtype: object\n"
     ]
    }
   ],
   "source": [
    "# Konwersja kolumny 'NUMBER' na ciąg znaków, ponieważ kolumna reprezentuje kategorię/identyfikator, a nie wartości liczbowe.\n",
    "baza2['number'] = baza2['number'].astype(str)\n",
    "\n",
    "# Sprawdzenie wyników\n",
    "print(baza2.dtypes)"
   ]
  },
  {
   "cell_type": "markdown",
   "metadata": {},
   "source": [
    " # Eksport danych na bazę"
   ]
  },
  {
   "cell_type": "markdown",
   "metadata": {},
   "source": [
    "##### Tworzymy funkcję `export_table_to_db`, która przyjmuje dwa parametry \"df\" i \"table_name\", czyli nazwę wczytywanej ramki danych i tabeli docelowej w bazie postgresql."
   ]
  },
  {
   "cell_type": "code",
   "execution_count": 22,
   "metadata": {},
   "outputs": [],
   "source": [
    "def export_table_to_db(df, table_name):\n",
    "    print(f\"Loading data into {table_name}...\")\n",
    "\n",
    "    # Eksportujemy ramkę do bazy danych\n",
    "    df.to_sql(\n",
    "        name=table_name,\n",
    "        con=engine,\n",
    "        if_exists='append',\n",
    "        index=False,\n",
    "        chunksize=1000\n",
    "    )\n",
    "\n",
    "    print(f\"Data loaded successfully into {table_name}.\")"
   ]
  },
  {
   "cell_type": "markdown",
   "metadata": {},
   "source": [
    " ## Wgrywanie danych"
   ]
  },
  {
   "cell_type": "markdown",
   "metadata": {},
   "source": [
    " ### Wgranie `baza1` do tabeli `baza1`"
   ]
  },
  {
   "cell_type": "code",
   "execution_count": 25,
   "metadata": {},
   "outputs": [
    {
     "name": "stdout",
     "output_type": "stream",
     "text": [
      "Loading data into baza1...\n",
      "Data loaded successfully into baza1.\n"
     ]
    }
   ],
   "source": [
    "export_table_to_db(baza1, 'baza1')"
   ]
  },
  {
   "cell_type": "markdown",
   "metadata": {},
   "source": [
    " ### Wgranie `baza2` do tabeli `baza2`"
   ]
  },
  {
   "cell_type": "code",
   "execution_count": 27,
   "metadata": {},
   "outputs": [
    {
     "name": "stdout",
     "output_type": "stream",
     "text": [
      "Loading data into baza2...\n",
      "Data loaded successfully into baza2.\n"
     ]
    }
   ],
   "source": [
    "export_table_to_db(baza2, 'baza2')"
   ]
  },
  {
   "cell_type": "code",
   "execution_count": 28,
   "metadata": {},
   "outputs": [
    {
     "name": "stdout",
     "output_type": "stream",
     "text": [
      "Empty DataFrame\n",
      "Columns: [id, number, end_dt, segment]\n",
      "Index: []\n"
     ]
    }
   ],
   "source": [
    "# Sprawdzenie, czy kolumna NUMBER ma prawidłowo wczytany NULL zamiast nan\n",
    "null_check = pd.read_sql(\"SELECT * FROM baza1 WHERE NUMBER IS NULL;\", con=engine)\n",
    "print(null_check)\n"
   ]
  },
  {
   "cell_type": "code",
   "execution_count": 29,
   "metadata": {},
   "outputs": [],
   "source": [
    "# Definiujemy zapytanie SQL, które zamienia wartości 'nan' na NULL w bazie danych\n",
    "update_query = text(\"\"\"\n",
    "    UPDATE baza1\n",
    "    SET number = NULL\n",
    "    WHERE number = 'nan';\n",
    "\"\"\")\n",
    "\n",
    "# Wykonanie zapytania na bazie danych\n",
    "with engine.begin() as connection:\n",
    "    connection.execute(update_query)"
   ]
  },
  {
   "cell_type": "code",
   "execution_count": 30,
   "metadata": {},
   "outputs": [
    {
     "name": "stdout",
     "output_type": "stream",
     "text": [
      "[(12373110, None, datetime.datetime(2024, 3, 14, 10, 46, 2), 'Soho'), (12373110, None, datetime.datetime(2024, 3, 13, 19, 48, 21), 'Soho'), (12370190, None, datetime.datetime(2017, 6, 25, 11, 58, 41), 'Soho'), (12370190, None, datetime.datetime(2022, 10, 29, 1, 20, 34), 'Soho'), (12370190, None, datetime.datetime(2022, 10, 29, 2, 20, 33), 'Soho'), (12370190, None, datetime.datetime(2022, 10, 29, 5, 50, 57), 'Soho'), (12370190, None, datetime.datetime(2022, 10, 29, 16, 15, 39), 'Soho'), (12370190, None, datetime.datetime(2022, 10, 29, 4, 0, 13), 'Soho'), (12370190, None, datetime.datetime(2022, 10, 29, 1, 6, 15), 'Soho'), (12370190, None, datetime.datetime(2022, 10, 29, 6, 36, 43), 'Soho'), (12370190, None, datetime.datetime(2022, 10, 29, 0, 35, 34), 'Soho'), (12370190, None, datetime.datetime(2022, 10, 29, 14, 28, 48), 'Soho'), (12370190, None, datetime.datetime(2022, 10, 29, 22, 54, 11), 'Soho'), (12370190, None, datetime.datetime(2022, 10, 29, 11, 45, 42), 'Soho'), (12370190, None, datetime.datetime(2022, 10, 29, 3, 6, 12), 'Soho'), (12370190, None, datetime.datetime(2022, 10, 29, 5, 17, 46), 'Soho'), (12370190, None, datetime.datetime(2022, 10, 29, 5, 50, 5), 'Soho'), (12370190, None, datetime.datetime(2022, 10, 29, 4, 39, 49), 'Soho'), (12370190, None, datetime.datetime(2022, 10, 29, 14, 48, 22), 'Soho'), (12370190, None, datetime.datetime(2022, 10, 29, 9, 53, 36), 'Soho'), (12370190, None, datetime.datetime(2022, 10, 29, 13, 9, 40), 'Soho'), (12370190, None, datetime.datetime(2022, 10, 29, 12, 47, 34), 'Soho'), (12370190, None, datetime.datetime(2022, 10, 29, 22, 42, 46), 'Soho'), (12370190, None, datetime.datetime(2022, 10, 29, 20, 23, 32), 'Soho'), (12370190, None, datetime.datetime(2022, 10, 29, 18, 28, 18), 'Soho'), (12370190, None, datetime.datetime(2022, 10, 29, 23, 11, 6), 'Soho'), (12370190, None, datetime.datetime(2022, 10, 29, 20, 4, 32), 'Soho'), (12370190, None, datetime.datetime(2022, 10, 29, 22, 20, 52), 'Soho'), (12370190, None, datetime.datetime(2022, 10, 29, 5, 34, 8), 'Soho'), (12370190, None, datetime.datetime(2022, 10, 29, 7, 25, 12), 'Soho'), (16309421, None, datetime.datetime(2022, 5, 5, 10, 5, 33), 'Medium'), (16309421, None, datetime.datetime(2022, 5, 5, 10, 28, 38), 'Medium')]\n"
     ]
    }
   ],
   "source": [
    "# Sprawdzenie, czy kolumna 'number' ma teraz NULL zamiast 'nan'\n",
    "with engine.connect() as connection:\n",
    "    result = connection.execute(text(\"SELECT * FROM baza1 WHERE number IS NULL\"))\n",
    "    print(result.fetchall())"
   ]
  },
  {
   "cell_type": "markdown",
   "metadata": {},
   "source": [
    " # Podsumowanie\n",
    " W tym notatniku załadowaliśmy pobrane wcześniej pliki na bazę danych. Dzięki temu stworzyliśmy centralne miejsce ich magazynowania, co wykorzystamy zarówno przy analizie danych, jak i przy późniejszej budowie systemu raportowego."
   ]
  },
  {
   "cell_type": "code",
   "execution_count": 32,
   "metadata": {},
   "outputs": [
    {
     "name": "stdout",
     "output_type": "stream",
     "text": [
      "Wszystko wygląda OK :) Przechodzimy do kolejnego zadania.\n"
     ]
    }
   ],
   "source": [
    "msg = \"Wszystko wygląda OK :) Przechodzimy do kolejnego zadania.\"\n",
    "print(msg)"
   ]
  },
  {
   "cell_type": "code",
   "execution_count": null,
   "metadata": {},
   "outputs": [],
   "source": []
  }
 ],
 "metadata": {
  "kernelspec": {
   "display_name": "venv_portfolio",
   "language": "python",
   "name": "venv_portfolio"
  },
  "language_info": {
   "codemirror_mode": {
    "name": "ipython",
    "version": 3
   },
   "file_extension": ".py",
   "mimetype": "text/x-python",
   "name": "python",
   "nbconvert_exporter": "python",
   "pygments_lexer": "ipython3",
   "version": "3.12.4"
  },
  "vscode": {
   "interpreter": {
    "hash": "38d75d0df746d7f75dd34c5d1915af59cb55786647bd68b8d9064425d7680b12"
   }
  }
 },
 "nbformat": 4,
 "nbformat_minor": 4
}

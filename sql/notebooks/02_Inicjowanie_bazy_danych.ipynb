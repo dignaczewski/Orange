{
 "cells": [
  {
   "cell_type": "markdown",
   "metadata": {},
   "source": [
    " # Opis notatnika\n",
    " W tym notatniku tworzymy dedykowaną bazę danych wraz ze strukturą tabel, która zostanie uzupełniona w nastęnym notatniku."
   ]
  },
  {
   "cell_type": "markdown",
   "metadata": {},
   "source": [
    "##### Importujemy potrzebne biblioteki"
   ]
  },
  {
   "cell_type": "code",
   "execution_count": 3,
   "metadata": {},
   "outputs": [],
   "source": [
    "import psycopg2\n",
    "from dotenv import load_dotenv\n",
    "import os"
   ]
  },
  {
   "cell_type": "markdown",
   "metadata": {},
   "source": [
    " ## Połączenie z bazą danych"
   ]
  },
  {
   "cell_type": "code",
   "execution_count": 5,
   "metadata": {},
   "outputs": [
    {
     "data": {
      "text/plain": [
       "True"
      ]
     },
     "execution_count": 5,
     "metadata": {},
     "output_type": "execute_result"
    }
   ],
   "source": [
    "# Ładujemy zmienne środowiskowe z pliku .env\n",
    "load_dotenv('DB_pass.env')"
   ]
  },
  {
   "cell_type": "code",
   "execution_count": 6,
   "metadata": {},
   "outputs": [],
   "source": [
    "# Używamy zmiennych środowiskowych do połączenia się z istniejącą bazą danych\n",
    "connection = psycopg2.connect(\n",
    "    dbname=os.getenv(\"O_DB_NAME\"),\n",
    "    user=os.getenv(\"DB_USER\"),\n",
    "    password=os.getenv(\"DB_PASSWORD\"),\n",
    "    host=os.getenv(\"DB_HOST\"),\n",
    "    port=os.getenv(\"DB_PORT\")\n",
    ")\n",
    "\n",
    "connection.autocommit = True\n",
    "cursor = connection.cursor()\n",
    "\n",
    "# Tworzymy nową bazę danych\n",
    "cursor.execute(\"CREATE DATABASE orange;\")\n",
    "connection.close()"
   ]
  },
  {
   "cell_type": "code",
   "execution_count": 7,
   "metadata": {},
   "outputs": [],
   "source": [
    "# Używamy zmiennych środowiskowych do połączenia się z nowo utworzoną bazą danych\n",
    "connection = psycopg2.connect(\n",
    "    dbname=os.getenv(\"N_DB_NAME\"),\n",
    "    user=os.getenv(\"DB_USER\"),\n",
    "    password=os.getenv(\"DB_PASSWORD\"),\n",
    "    host=os.getenv(\"DB_HOST\"),\n",
    "    port=os.getenv(\"DB_PORT\")\n",
    ")\n",
    "\n",
    "cursor = connection.cursor()"
   ]
  },
  {
   "cell_type": "markdown",
   "metadata": {},
   "source": [
    " ## Wczytanie pliku `database_schema.sql`\n",
    " Z katalogu `sql` wczytujemy plik `database_schema.sql`"
   ]
  },
  {
   "cell_type": "code",
   "execution_count": 9,
   "metadata": {},
   "outputs": [],
   "source": [
    "# Wczytujemy strukturę bazy danych z pliku .sql\n",
    "with open('../sql/database_schema.sql', 'r') as file:\n",
    "    schema_sql = file.read()"
   ]
  },
  {
   "cell_type": "code",
   "execution_count": 10,
   "metadata": {},
   "outputs": [
    {
     "name": "stdout",
     "output_type": "stream",
     "text": [
      "DROP TABLE IF EXISTS public.baza1 CASCADE;\n",
      "CREATE TABLE IF NOT EXISTS public.baza1\n",
      "(\n",
      "    ID BIGINT,\n",
      "    NUMBER CHAR(9),\n",
      "    END_DT TIMESTAMP,\n",
      "    SEGMENT VARCHAR(10)\n",
      ")\n",
      ";\n",
      "\n",
      "CREATE OR REPLACE VIEW public.baza1_blocker AS\n",
      "SELECT 1 FROM public.baza1 LIMIT 1;\n",
      "\n",
      "DROP TABLE IF EXISTS public.baza2 CASCADE;\n",
      "CREATE TABLE IF NOT EXISTS public.baza2\n",
      "(\n",
      "    ID BIGINT,\n",
      "    NUMBER CHAR(9),\n",
      "    PLAN VARCHAR(3)\n",
      ")\n",
      ";\n",
      "\n",
      "CREATE OR REPLACE VIEW public.baza2_blocker AS\n",
      "SELECT 1 FROM public.baza2 LIMIT 1\n"
     ]
    }
   ],
   "source": [
    "print(schema_sql)"
   ]
  },
  {
   "cell_type": "code",
   "execution_count": 11,
   "metadata": {},
   "outputs": [],
   "source": [
    "# Dzielimy zawartość pliku na poszczególne komendy zakończone średnikiem\n",
    "sql_commands = schema_sql.split(';')"
   ]
  },
  {
   "cell_type": "code",
   "execution_count": 12,
   "metadata": {},
   "outputs": [],
   "source": [
    "# Dodajemy średnik na końcu każdej komendy, czyścimy tekst z niepotrzbnych znaków białych\n",
    "sql_commands = [command.strip() + ';' for command in sql_commands]"
   ]
  },
  {
   "cell_type": "code",
   "execution_count": 13,
   "metadata": {},
   "outputs": [
    {
     "data": {
      "text/plain": [
       "['DROP TABLE IF EXISTS public.baza1 CASCADE;',\n",
       " 'CREATE TABLE IF NOT EXISTS public.baza1\\n(\\n    ID BIGINT,\\n    NUMBER CHAR(9),\\n    END_DT TIMESTAMP,\\n    SEGMENT VARCHAR(10)\\n);',\n",
       " 'CREATE OR REPLACE VIEW public.baza1_blocker AS\\nSELECT 1 FROM public.baza1 LIMIT 1;',\n",
       " 'DROP TABLE IF EXISTS public.baza2 CASCADE;',\n",
       " 'CREATE TABLE IF NOT EXISTS public.baza2\\n(\\n    ID BIGINT,\\n    NUMBER CHAR(9),\\n    PLAN VARCHAR(3)\\n);',\n",
       " 'CREATE OR REPLACE VIEW public.baza2_blocker AS\\nSELECT 1 FROM public.baza2 LIMIT 1;']"
      ]
     },
     "execution_count": 13,
     "metadata": {},
     "output_type": "execute_result"
    }
   ],
   "source": [
    "sql_commands"
   ]
  },
  {
   "cell_type": "markdown",
   "metadata": {},
   "source": [
    "##### W tym miejscu wczytujemy każdą z kwerend, aby zainicjować strukturę bazy danych"
   ]
  },
  {
   "cell_type": "code",
   "execution_count": 15,
   "metadata": {},
   "outputs": [
    {
     "name": "stdout",
     "output_type": "stream",
     "text": [
      "Wszystkie operacje zakończyły się sukcesem, commit wykonany.\n"
     ]
    }
   ],
   "source": [
    "try:\n",
    "    # Iterujemy przez każdą komendę SQL\n",
    "    for command in sql_commands:\n",
    "        cursor.execute(command)\n",
    "\n",
    "    # Jeśli wszystkie komendy zakończą się sukcesem, zatwierdzamy transakcję\n",
    "    connection.commit()\n",
    "    print(\"Wszystkie operacje zakończyły się sukcesem, commit wykonany.\")\n",
    "\n",
    "except Exception as e:\n",
    "    # W przypadku błędu, wycofujemy wszystkie zmiany\n",
    "    connection.rollback()\n",
    "    print(f\"Wystąpił błąd: {e}. Wykonano rollback.\")\n",
    "\n",
    "finally:\n",
    "    # Zamykamy kursor i połączenie w tym miejscu, aby w przypadku wystąpienia błędu połączenie nie zostało otwarte\n",
    "    cursor.close()\n",
    "    connection.close()"
   ]
  },
  {
   "cell_type": "markdown",
   "metadata": {},
   "source": [
    " ### Sprawdzenie\n",
    " Uruchamiamy poniższy kod, aby sprawdzić, czy faktycznie ta baza danych została zainicjowana prawidłowo."
   ]
  },
  {
   "cell_type": "code",
   "execution_count": 17,
   "metadata": {},
   "outputs": [],
   "source": [
    "# Używamy zmiennych środowiskowych do połączenia się z nowo utworzoną bazą danych\n",
    "connection = psycopg2.connect(\n",
    "    dbname=os.getenv(\"N_DB_NAME\"),\n",
    "    user=os.getenv(\"DB_USER\"),\n",
    "    password=os.getenv(\"DB_PASSWORD\"),\n",
    "    host=os.getenv(\"DB_HOST\"),\n",
    "    port=os.getenv(\"DB_PORT\")\n",
    ")\n",
    "\n",
    "cursor = connection.cursor()"
   ]
  },
  {
   "cell_type": "code",
   "execution_count": 18,
   "metadata": {},
   "outputs": [],
   "source": [
    "def check_if_table_exists(table_name):\n",
    "    msg = f\"Sprawdzam czy istnieje tabela {table_name}\"\n",
    "    print(msg)\n",
    "\n",
    "    query = f\"select 1 from {table_name}\"\n",
    "    # jeżeli tabela nie istnieje, ten krok zwróci wyjątek\n",
    "    cursor.execute(query)\n",
    "    print('OK!')"
   ]
  },
  {
   "cell_type": "code",
   "execution_count": 19,
   "metadata": {},
   "outputs": [],
   "source": [
    "tables_to_test = [\n",
    "    'baza1',\n",
    "    'baza2'\n",
    "]"
   ]
  },
  {
   "cell_type": "code",
   "execution_count": 20,
   "metadata": {},
   "outputs": [
    {
     "name": "stdout",
     "output_type": "stream",
     "text": [
      "Sprawdzam czy istnieje tabela baza1\n",
      "OK!\n",
      "Sprawdzam czy istnieje tabela baza2\n",
      "OK!\n"
     ]
    }
   ],
   "source": [
    "for table in tables_to_test:\n",
    "    check_if_table_exists(table)"
   ]
  },
  {
   "cell_type": "code",
   "execution_count": 21,
   "metadata": {},
   "outputs": [
    {
     "name": "stdout",
     "output_type": "stream",
     "text": [
      "Wszystko wygląda OK :) Przechodzimy do kolejnego zadania.\n"
     ]
    }
   ],
   "source": [
    "connection.close()\n",
    "msg = \"Wszystko wygląda OK :) Przechodzimy do kolejnego zadania.\"\n",
    "print(msg)"
   ]
  }
 ],
 "metadata": {
  "kernelspec": {
   "display_name": "venv_portfolio",
   "language": "python",
   "name": "venv_portfolio"
  },
  "language_info": {
   "codemirror_mode": {
    "name": "ipython",
    "version": 3
   },
   "file_extension": ".py",
   "mimetype": "text/x-python",
   "name": "python",
   "nbconvert_exporter": "python",
   "pygments_lexer": "ipython3",
   "version": "3.12.4"
  },
  "vscode": {
   "interpreter": {
    "hash": "38d75d0df746d7f75dd34c5d1915af59cb55786647bd68b8d9064425d7680b12"
   }
  }
 },
 "nbformat": 4,
 "nbformat_minor": 4
}
